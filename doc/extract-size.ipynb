{
 "cells": [
  {
   "cell_type": "markdown",
   "metadata": {},
   "source": [
    "## Extraction performance as a function of divide-and-conquer size ##\n",
    "\n",
    "Context: a naive implementation of the DESI spectral extraction algorithm would involve eigen-decomposition of a 2M x 2M matrix, assembled from some 16M x 16M and 16M x 2M matrices.  This is computationally intractable as-is, but we use the sparseness of the matrix to subdivide the problem into overlapping sub-extractions.  Our current default is to extract 25 spectra x 50 wavelengths + edge effect boundaries at a time.  This notebook explores potential speedups from even smaller sub-extractions.\n",
    "\n",
    "**Stephen Bailey**<br>\n",
    "Lawrence Berkeley National Lab<br>\n",
    "Spring 2017"
   ]
  },
  {
   "cell_type": "markdown",
   "metadata": {},
   "source": [
    "### Code to run ###\n",
    "\n",
    "This code requires https://github.com/desihub/specter and https://github.com/sbailey/knlcode.  A minimal setup is:\n",
    "```bash\n",
    "git clone https://github.com/sbailey/knltest\n",
    "git clone https://github.com/desihub/specter\n",
    "export PYTHONPATH=`pwd`/specter/py:$PYTHONPATH\n",
    "cd knltest/code\n",
    "export OMP_NUM_THREADS=1\n",
    "python extract-size.py\n",
    "```"
   ]
  },
  {
   "cell_type": "code",
   "execution_count": 1,
   "metadata": {
    "collapsed": false
   },
   "outputs": [
    {
     "name": "stdout",
     "output_type": "stream",
     "text": [
      "Populating the interactive namespace from numpy and matplotlib\n"
     ]
    }
   ],
   "source": [
    "%pylab inline\n",
    "import numpy as np\n",
    "from astropy.table import Table"
   ]
  },
  {
   "cell_type": "code",
   "execution_count": 2,
   "metadata": {
    "collapsed": false
   },
   "outputs": [],
   "source": [
    "knl = Table.read('../doc/data/extract-size/knl.txt', format='ascii')\n",
    "hsw = Table.read('../doc/data/extract-size/hsw.txt', format='ascii')"
   ]
  },
  {
   "cell_type": "code",
   "execution_count": 3,
   "metadata": {
    "collapsed": false
   },
   "outputs": [
    {
     "data": {
      "text/plain": [
       "['nspec', 'nwave', 'ntot', 'rate']"
      ]
     },
     "execution_count": 3,
     "metadata": {},
     "output_type": "execute_result"
    }
   ],
   "source": [
    "hsw.colnames"
   ]
  },
  {
   "cell_type": "code",
   "execution_count": 4,
   "metadata": {
    "collapsed": true
   },
   "outputs": [],
   "source": [
    "knl.sort('ntot')\n",
    "hsw.sort('ntot')"
   ]
  },
  {
   "cell_type": "code",
   "execution_count": 5,
   "metadata": {
    "collapsed": true
   },
   "outputs": [],
   "source": [
    "def table2rate2d(data):\n",
    "    nwave_opts = sorted(set(data['nwave']))\n",
    "    nspec_opts = sorted(set(data['nspec']))\n",
    "    rate = np.zeros((len(nwave_opts), len(nspec_opts)))\n",
    "    for row in data:\n",
    "        i = nwave_opts.index(row['nwave'])\n",
    "        j = nspec_opts.index(row['nspec'])\n",
    "        rate[i,j] = row['rate']\n",
    "    return rate\n",
    "\n",
    "rate_knl = table2rate2d(knl)\n",
    "rate_hsw = table2rate2d(hsw)"
   ]
  },
  {
   "cell_type": "code",
   "execution_count": 6,
   "metadata": {
    "collapsed": true
   },
   "outputs": [],
   "source": [
    "def plotimg(rate, xlabels, ylabels):\n",
    "    imshow(rate)\n",
    "    colorbar()\n",
    "    xticks(range(len(xlabels)), xlabels)\n",
    "    yticks(range(len(ylabels)), ylabels)\n",
    "    xlabel('nspec'); ylabel('nwave')"
   ]
  },
  {
   "cell_type": "markdown",
   "metadata": {},
   "source": [
    "## Extraction rate vs. extraction size ##\n",
    "\n",
    "Current default is 25 spectra x 50 wavelengths extracted at a time.\n",
    "On both KNL and Haswell, we could do better with smaller sub-extractions."
   ]
  },
  {
   "cell_type": "code",
   "execution_count": 7,
   "metadata": {
    "collapsed": false
   },
   "outputs": [
    {
     "data": {
      "text/plain": [
       "<matplotlib.text.Text at 0x10e85e510>"
      ]
     },
     "execution_count": 7,
     "metadata": {},
     "output_type": "execute_result"
    },
    {
     "data": {
      "text/plain": [
       "<matplotlib.figure.Figure at 0x10c2b4190>"
      ]
     },
     "metadata": {},
     "output_type": "display_data"
    },
    {
     "data": {
      "image/png": "[encoded data removed]",
      "text/plain": [
       "<matplotlib.figure.Figure at 0x10c2b4290>"
      ]
     },
     "metadata": {},
     "output_type": "display_data"
    }
   ],
   "source": [
    "xlabels = sorted(set(hsw['nspec']))\n",
    "ylabels = sorted(set(knl['nwave']))\n",
    "\n",
    "set_cmap('viridis')\n",
    "figure(figsize=(12,4))\n",
    "subplot(121); plotimg(rate_hsw, xlabels, ylabels); title('Haswell rate')\n",
    "subplot(122); plotimg(rate_knl, xlabels, ylabels); title('KNL rate')"
   ]
  },
  {
   "cell_type": "markdown",
   "metadata": {},
   "source": [
    "## 3x improvement is possible ##\n",
    "\n",
    "Going to 5-10 spectra x 20 wavelengths gains a factor of 3x speed on both KNL and Haswell."
   ]
  },
  {
   "cell_type": "code",
   "execution_count": 8,
   "metadata": {
    "collapsed": false
   },
   "outputs": [
    {
     "data": {
      "text/plain": [
       "<matplotlib.text.Text at 0x10f133890>"
      ]
     },
     "execution_count": 8,
     "metadata": {},
     "output_type": "execute_result"
    },
    {
     "data": {
      "image/png": "[encoded data removed]",
      "text/plain": [
       "<matplotlib.figure.Figure at 0x10e91b510>"
      ]
     },
     "metadata": {},
     "output_type": "display_data"
    }
   ],
   "source": [
    "figure(figsize=(12,4))\n",
    "subplot(121); plotimg(rate_hsw/rate_hsw[-1,-1], xlabels, ylabels); title('Haswell rate improvement')\n",
    "subplot(122); plotimg(rate_knl/rate_knl[-1,-1], xlabels, ylabels); title('KNL rate improvement')"
   ]
  },
  {
   "cell_type": "markdown",
   "metadata": {
    "collapsed": true
   },
   "source": [
    "## Haswell to KNL performance ##\n",
    "\n",
    "The best parameters for Haswell are ~7x faster than the best parameters for KNL,\n",
    "and for a given extraction size (nspec,nwave), Haswell is 5x-8x faster than KNL\n",
    "per process."
   ]
  },
  {
   "cell_type": "code",
   "execution_count": 9,
   "metadata": {
    "collapsed": false
   },
   "outputs": [
    {
     "name": "stdout",
     "output_type": "stream",
     "text": [
      "Haswell/KNL = 7.30920936142\n"
     ]
    },
    {
     "data": {
      "text/plain": [
       "<matplotlib.text.Text at 0x10f392950>"
      ]
     },
     "execution_count": 9,
     "metadata": {},
     "output_type": "execute_result"
    },
    {
     "data": {
      "image/png": "[encoded data removed]",
      "text/plain": [
       "<matplotlib.figure.Figure at 0x10c2dbe50>"
      ]
     },
     "metadata": {},
     "output_type": "display_data"
    }
   ],
   "source": [
    "r = np.max(rate_hsw) / np.max(rate_knl)\n",
    "print(\"Haswell/KNL = {}\".format(r))\n",
    "plotimg(rate_hsw/rate_knl, xlabels, ylabels)\n",
    "title('Haswell / KNL performance')"
   ]
  },
  {
   "cell_type": "markdown",
   "metadata": {},
   "source": [
    "## KNL cache problems? ##\n",
    "\n",
    "There was a theory that L2 cache misses on KNL were hurting its performance relative\n",
    "to Haswell and that going to smaller extraction sizes would help.  This doesn't appear\n",
    "to be the case -- although both Haswell and KNL prefer smaller extraction sizes, Haswell\n",
    "continues to significantly outperform KNL by much more than the ratio of clock speeds\n",
    "(2.3/1.4)."
   ]
  },
  {
   "cell_type": "code",
   "execution_count": null,
   "metadata": {
    "collapsed": true
   },
   "outputs": [],
   "source": []
  }
 ],
 "metadata": {
  "anaconda-cloud": {},
  "kernelspec": {
   "display_name": "Python 2",
   "language": "python",
   "name": "python2"
  },
  "language_info": {
   "codemirror_mode": {
    "name": "ipython",
    "version": 2
   },
   "file_extension": ".py",
   "mimetype": "text/x-python",
   "name": "python",
   "nbconvert_exporter": "python",
   "pygments_lexer": "ipython2",
   "version": "2.7.12"
  }
 },
 "nbformat": 4,
 "nbformat_minor": 1
}
