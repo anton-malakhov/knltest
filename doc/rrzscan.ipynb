{
 "cells": [
  {
   "cell_type": "markdown",
   "metadata": {},
   "source": [
    "## Redrock zscan ##\n",
    "\n",
    "Stephen Bailey, 15 January 2017\n",
    "\n",
    "This notebook documents the scaling performance of\n",
    "`redrock.zscan.parallel_calc_zchi2_targets()`, which fits\n",
    "target spectra to a redshifted 5-component PCA template to map\n",
    "the best fit $\\chi^2$ vs. redshift.  It uses a combination of\n",
    "  * numba/LLVM JIT compiled python code for resampling and trapezoidal integration;\n",
    "    prior to numba this was by far the slowest component\n",
    "  * numpy vector operations\n",
    "  * 5x5 MKL matrix solution per target per sampled redshift for PCA model fit\n",
    "  * miscellaneous python\n",
    "\n",
    "`zscan` is parallelized with python `multiprocessing` within a single node.\n",
    "The processes are data parallel, i.e. they do not communicate with each other.\n",
    "\n",
    "The plot below shows the rate of\n",
    "target redshifts processed per second vs. number of processes used.  For Haswell tests,\n",
    "`$OMP_NUM_THREADS = $MKL_NUM_THREADS = 64 // numprocesses`,\n",
    "while for KNL tests these were set to either `272 // numprocesses` (corresponding to the\n",
    "number of hyperthreading cores) or `68 // numprocesses` (corresponding to the number of physical cores).  Compared to real data, these tests used spectra with fewer wavelength samples and tested fewer redshifts in order to have the tests quickly.\n",
    "\n",
    "Initial observations:\n",
    "  * The Haswell node was 75x faster than the KNL node (!)\n",
    "  * Haswell had ok but not great scaling performance with more processes\n",
    "    (note that this is a log plot).  However, the largest concurrencies ran in less than a\n",
    "    second so they may have been dominated by startup/teardown overheads.\n",
    "  * KNL had no improvement with more processes; I hope this is just some parameter\n",
    "    that I'm missing and that I accidentally wasn't actually using more physical cores\n",
    "  * Using fewer OMP/MKL threads per process gave modestly better performance on KNL\n",
    "    (a separate ad hoc Haswell test not documented here showed similar results there)\n",
    "\n",
    "Code versions used (as reported by \"git describe\"):\n",
    "  * [redrock](https://github.com/sbailey/redrock) 0.2-35-g3addbf9\n",
    "  * [knltest](https://github.com/sbailey/knltest) 0.1 script `rrscan.py`.\n",
    "  * NERSC installed python/3.5-anaconda"
   ]
  },
  {
   "cell_type": "code",
   "execution_count": 1,
   "metadata": {
    "collapsed": false
   },
   "outputs": [
    {
     "name": "stdout",
     "output_type": "stream",
     "text": [
      "Populating the interactive namespace from numpy and matplotlib\n"
     ]
    }
   ],
   "source": [
    "%pylab inline\n",
    "import numpy as np\n",
    "import io"
   ]
  },
  {
   "cell_type": "code",
   "execution_count": 2,
   "metadata": {
    "collapsed": true
   },
   "outputs": [],
   "source": [
    "#- Datasets from running \"python rrzscan.py [haswell|knl]\n",
    "hswdata = '''\\\n",
    "ncpu nthread  time    rate\n",
    "  1     64    4.74    1055.49\n",
    "  2     32    3.21    1556.29\n",
    "  4     16    1.49    3351.20\n",
    "  8      8    1.04    4786.74\n",
    " 16      4    0.72    6923.60\n",
    " 32      2    0.48    10412.14\n",
    " 64      1    0.46    10914.74\n",
    "'''\n",
    "\n",
    "knldata272 = '''\\\n",
    "ncpu nthread  time    rate\n",
    "  4     68    42.73    117.01\n",
    "  8     34    40.08    124.74\n",
    " 16     17    38.29    130.59\n",
    " 32      8    42.92    116.49\n",
    " 64      4    38.48    129.93\n",
    "128      2    45.27    110.45\n",
    "'''\n",
    "\n",
    "knldata68 = '''\\\n",
    "ncpu nthread  time    rate\n",
    "  4     17    34.60    144.51\n",
    "  8      8    35.54    140.68\n",
    " 16      4    34.00    147.08\n",
    " 32      2    38.74    129.06\n",
    " 64      1    34.92    143.20\n",
    "128      1    39.03    128.09\n",
    "'''\n",
    "\n",
    "def parse_data(datastr):\n",
    "    dtype = [('ncpu', int), ('nthread', int), ('time', float), ('rate', float)]\n",
    "    data = np.loadtxt(io.StringIO(datastr), skiprows=1, dtype=dtype)\n",
    "    return data\n",
    "\n",
    "hsw = parse_data(hswdata)\n",
    "knl272 = parse_data(knldata272)\n",
    "knl68 = parse_data(knldata68)"
   ]
  },
  {
   "cell_type": "code",
   "execution_count": 3,
   "metadata": {
    "collapsed": false
   },
   "outputs": [
    {
     "data": {
      "image/png": "[encoded data removed]",
      "text/plain": [
       "<matplotlib.figure.Figure at 0x10c604390>"
      ]
     },
     "metadata": {},
     "output_type": "display_data"
    }
   ],
   "source": [
    "figure(figsize=(6,6))\n",
    "plot(hsw['ncpu'], hsw['rate'], 'bs-', label='Haswell64')\n",
    "plot(knl272['ncpu'], knl272['rate'], 'rs-', label='KNL272')\n",
    "plot(knl68['ncpu'], knl68['rate'], 'ks-', label='KNL68')\n",
    "\n",
    "plot(hsw['ncpu'], hsw['ncpu']*hsw['rate'][0], 'g-', label='perfect')\n",
    "\n",
    "loglog()\n",
    "xticks([1,2,4,8,16,32,64,128], [1,2,4,8,16,32,64,128])\n",
    "xlim(0.7, 128/0.7)\n",
    "ylim(50, 2e5)\n",
    "xlabel('number of cores used')\n",
    "ylabel('target redshifts per second')\n",
    "title('Redrock zscan 10 targets x 500 redshifts')\n",
    "legend(loc='upper left')\n",
    "savefig('rrzscan.png')\n"
   ]
  },
  {
   "cell_type": "code",
   "execution_count": 4,
   "metadata": {
    "collapsed": false
   },
   "outputs": [
    {
     "data": {
      "text/plain": [
       "74.209545825401136"
      ]
     },
     "execution_count": 4,
     "metadata": {},
     "output_type": "execute_result"
    }
   ],
   "source": [
    "np.max(hsw['rate']) / np.max(knl68['rate'])"
   ]
  },
  {
   "cell_type": "markdown",
   "metadata": {},
   "source": [
    "Full logs cut-and-paste from each run\n",
    "```\n",
    "<cori code> python debug.py cori\n",
    "len(redshifts) = 500\n",
    "len(template.redshifts) = 20\n",
    "WARNING: Using 50 cores for 50 redshifts\n",
    "len(redshifts) = 500\n",
    "ncpu nthread  time    rate\n",
    "  1     64    4.74    1055.49\n",
    "  2     32    3.21    1556.29\n",
    "  4     16    1.49    3351.20\n",
    "  8      8    1.04    4786.74\n",
    " 16      4    0.72    6923.60\n",
    " 32      2    0.48    10412.14\n",
    " 64      1    0.46    10914.74\n",
    "\n",
    "<cori code> python debug.py knlfast\n",
    "len(redshifts) = 250\n",
    "len(template.redshifts) = 20\n",
    "WARNING: Using 25 cores for 25 redshifts\n",
    "len(redshifts) = 250\n",
    "ncpu nthread  time    rate\n",
    "  4     68    10.75    116.29\n",
    "  8     34    10.62    117.71\n",
    " 16     17    10.54    118.60\n",
    " 32      8    11.61    107.70\n",
    " 64      4    12.06    103.67\n",
    "128      2    15.89    78.66\n",
    "\n",
    "#- with nthread = 272 // ncpu\n",
    "<cori code> python debug.py knl    \n",
    "len(redshifts) = 500\n",
    "len(template.redshifts) = 20\n",
    "WARNING: Using 50 cores for 50 redshifts\n",
    "len(redshifts) = 500\n",
    "ncpu nthread  time    rate\n",
    "  4     68    42.73    117.01\n",
    "  8     34    40.08    124.74\n",
    " 16     17    38.29    130.59\n",
    " 32      8    42.92    116.49\n",
    " 64      4    38.48    129.93\n",
    "128      2    45.27    110.45\n",
    "\n",
    "#- second run iwth nthread = 272 // npu later on\n",
    "len(redshifts) = 500\n",
    "len(template.redshifts) = 20\n",
    "WARNING: Using 50 cores for 50 redshifts\n",
    "len(redshifts) = 500\n",
    "ncpu nthread  time    rate\n",
    "  4     68    42.56    117.49\n",
    "  8     34    39.34    127.11\n",
    " 16     17    37.70    132.64\n",
    " 32      8    42.42    117.88\n",
    " 64      4    37.10    134.76\n",
    "128      2    44.61    112.09\n",
    "\n",
    "#- with nthread = 136 // ncpu\n",
    "<cori code> python debug.py knl\n",
    "len(redshifts) = 500\n",
    "len(template.redshifts) = 20\n",
    "WARNING: Using 50 cores for 50 redshifts\n",
    "len(redshifts) = 500\n",
    "ncpu nthread  time    rate\n",
    "  4     34    35.76    139.81\n",
    "  8     17    36.71    136.20\n",
    " 16      8    38.89    128.56\n",
    " 32      4    35.89    139.30\n",
    " 64      2    39.45    126.74\n",
    "128      1    38.88    128.60\n",
    "\n",
    "\n",
    "#- with nthread = 68 // ncpu\n",
    "<cori code> python debug.py knl\n",
    "len(redshifts) = 500\n",
    "len(template.redshifts) = 20\n",
    "WARNING: Using 50 cores for 50 redshifts\n",
    "len(redshifts) = 500\n",
    "ncpu nthread  time    rate\n",
    "  4     17    34.60    144.51\n",
    "  8      8    35.54    140.68\n",
    " 16      4    34.00    147.08\n",
    " 32      2    38.74    129.06\n",
    " 64      1    34.92    143.20\n",
    "128      1    39.03    128.09\n",
    "```\n",
    "\n"
   ]
  },
  {
   "cell_type": "code",
   "execution_count": null,
   "metadata": {
    "collapsed": true
   },
   "outputs": [],
   "source": []
  }
 ],
 "metadata": {
  "anaconda-cloud": {},
  "kernelspec": {
   "display_name": "Python [conda env:desi]",
   "language": "python",
   "name": "conda-env-desi-py"
  },
  "language_info": {
   "codemirror_mode": {
    "name": "ipython",
    "version": 3
   },
   "file_extension": ".py",
   "mimetype": "text/x-python",
   "name": "python",
   "nbconvert_exporter": "python",
   "pygments_lexer": "ipython3",
   "version": "3.5.2"
  }
 },
 "nbformat": 4,
 "nbformat_minor": 1
}
